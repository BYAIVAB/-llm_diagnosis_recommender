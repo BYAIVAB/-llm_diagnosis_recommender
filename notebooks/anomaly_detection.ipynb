{
 "cells": [
  {
   "cell_type": "code",
   "execution_count": 1,
   "metadata": {},
   "outputs": [
    {
     "ename": "SyntaxError",
     "evalue": "invalid syntax (4144237465.py, line 3)",
     "output_type": "error",
     "traceback": [
      "\u001b[1;36m  Cell \u001b[1;32mIn[1], line 3\u001b[1;36m\u001b[0m\n\u001b[1;33m    This notebook demonstrates how to perform basic Exploratory Data Analysis (EDA) on sensor data and train an Isolation Forest model to detect anomalies.\u001b[0m\n\u001b[1;37m         ^\u001b[0m\n\u001b[1;31mSyntaxError\u001b[0m\u001b[1;31m:\u001b[0m invalid syntax\n"
     ]
    }
   ],
   "source": [
    "# Anomaly Detection with Isolation Forest\n",
    "\n",
    "This notebook demonstrates how to perform basic Exploratory Data Analysis (EDA) on sensor data and train an Isolation Forest model to detect anomalies.\n",
    "\n",
    "## 1. Load Data\n",
    "\n",
    "First, we load the `sample_sensor_data.csv` file into a pandas DataFrame.\n",
    "```python\n",
    "import pandas as pd\n",
    "import matplotlib.pyplot as plt\n",
    "from sklearn.ensemble import IsolationForest\n",
    "\n",
    "# Load the data\n",
    "try:\n",
    "    df = pd.read_csv('../data/sample_sensor_data.csv', parse_dates=['timestamp'])\n",
    "    df.set_index('timestamp', inplace=True)\n",
    "    print(\"Data loaded successfully:\")\n",
    "    print(df.head())\n",
    "except FileNotFoundError:\n",
    "    print(\"Error: 'sample_sensor_data.csv' not found. Please ensure the file exists in the 'data/' directory.\")\n",
    "    exit()\n",
    "```\n",
    "\n",
    "## 2. Basic EDA (Exploratory Data Analysis)\n",
    "\n",
    "We will perform basic EDA by looking at summary statistics and plotting the sensor readings over time.\n",
    "\n",
    "### Summary Statistics\n",
    "```python\n",
    "print(\"\\nSummary Statistics:\")\n",
    "print(df.describe())\n",
    "```\n",
    "\n",
    "### Line Plots of Sensor Readings\n",
    "```python\n",
    "print(\"\\nPlotting Sensor Data:\")\n",
    "df.plot(subplots=True, figsize=(12, 8))\n",
    "plt.tight_layout()\n",
    "plt.show()\n",
    "```\n",
    "\n",
    "## 3. Train Isolation Forest Model\n",
    "\n",
    "Next, we train an Isolation Forest model on the sensor data to identify anomalies. Isolation Forest is an unsupervised learning algorithm that works by isolating observations and is effective at detecting outliers.\n",
    "\n",
    "```python\n",
    "# Initialize and train the Isolation Forest model\n",
    "# contamination is the proportion of outliers in the dataset, which can be estimated or set based on domain knowledge\n",
    "model = IsolationForest(contamination=0.05, random_state=42)\n",
    "model.fit(df)\n",
    "```\n",
    "\n",
    "## 4. Mark and Plot Anomalies\n",
    "\n",
    "Finally, we predict anomalies using the trained model and visualize them on the plots. Anomalies are typically marked with a score of -1.\n",
    "\n",
    "```python\n",
    "# Predict anomalies (-1 for anomalies, 1 for normal observations)\n",
    "df['anomaly'] = model.predict(df)\n",
    "\n",
    "print(\"\\nDataFrame with Anomalies Marked:\")\n",
    "print(df[df['anomaly'] == -1])\n",
    "\n",
    "# Plotting anomalies\n",
    "plt.figure(figsize=(14, 10))\n",
    "for i, col in enumerate(df.columns[:-1]): # Exclude the 'anomaly' column\n",
    "    plt.subplot(len(df.columns) - 1, 1, i + 1)\n",
    "    plt.plot(df.index, df[col], label=col)\n",
    "    anomalies = df[df['anomaly'] == -1]\n",
    "    plt.scatter(anomalies.index, anomalies[col], color='red', label='Anomaly')\n",
    "    plt.title(f'{col} Readings with Anomalies')\n",
    "    plt.legend()\n",
    "plt.tight_layout()\n",
    "plt.show()"
   ]
  }
 ],
 "metadata": {
  "kernelspec": {
   "display_name": "Python 3",
   "language": "python",
   "name": "python3"
  },
  "language_info": {
   "codemirror_mode": {
    "name": "ipython",
    "version": 3
   },
   "file_extension": ".py",
   "mimetype": "text/x-python",
   "name": "python",
   "nbconvert_exporter": "python",
   "pygments_lexer": "ipython3",
   "version": "3.11.2"
  }
 },
 "nbformat": 4,
 "nbformat_minor": 2
}
